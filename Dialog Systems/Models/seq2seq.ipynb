{
 "cells": [
  {
   "cell_type": "code",
   "execution_count": 3,
   "metadata": {},
   "outputs": [],
   "source": [
    "import torch\n",
    "import torch.nn as nn"
   ]
  },
  {
   "cell_type": "code",
   "execution_count": 33,
   "metadata": {},
   "outputs": [],
   "source": [
    "class EncoderRNN(nn.Module):\n",
    "    \n",
    "    def __init__(self,hidden_size,embedding,n_layers=1,dropout=0.1):\n",
    "        \"\"\"\n",
    "        Encoder module for seq2seq architechture.\n",
    "        \"\"\"\n",
    "        \n",
    "        \n",
    "        super(EncoderRNN,self).__init__()\n",
    "        \n",
    "        self.n_layers=n_layers\n",
    "        self.hidden_size=hidden_size\n",
    "        self.embedding=embedding\n",
    "        \n",
    "        self.gru=nn.GRU(hidden_size,hidden_size,n_layers,dropout=dropout,bidirectional=True)\n",
    "        \n",
    "    def forward(self,input_seq,input_lengths,hidden=None):\n",
    "        embedded_input=self.embedding(input_seq)\n",
    "        packed=nn.utils.rnn.pack_padded_sequence(embedded_input,input_lengths)\n",
    "        outputs,hidden=self.gru(packed,hidden)\n",
    "        outputs,_=nn.utils.rnn.pad_packed_sequence(outputs)\n",
    "        \n",
    "        outputs = outputs[:, :, :self.hidden_size] + outputs[:, : ,self.hidden_size:]\n",
    "        \n",
    "        return outputs,hidden"
   ]
  },
  {
   "cell_type": "code",
   "execution_count": 35,
   "metadata": {},
   "outputs": [],
   "source": [
    "class DecoderRNN(nn.Module):\n",
    "    \n",
    "    def __init__(self,embedding,hidden_size,output_size,n_layers=1,dropout=0.1):\n",
    "        super().__init__()\n",
    "        \n",
    "        self.embedding=embedding\n",
    "        self.hidden_size=hidden_size\n",
    "        self.output_size=output_size\n",
    "        self.n_layers=n_layers\n",
    "        self.dropout=dropout\n",
    "        \n",
    "        self.embedding_dropout=nn.Dropout(dropout)\n",
    "        self.gru=nn.GRU(hidden_size,hidden_size,n_layers,dropout=dropout)\n",
    "        \n",
    "        self.out=nn.Linear(hidden_size,output_size)\n",
    "        \n",
    "    def forward(self,input_step,last_hidden,encoder_outputs):\n",
    "        \n",
    "        embedded=self.embedding(input_step)\n",
    "        embedded=self.embedding_dropout(embedded)\n",
    "        \n",
    "        rnn_output, hidden=self.gru(embedded,hidden)\n",
    "        output=self.out(rnn_output)\n",
    "        output=F.softmax(output,dim=1)\n",
    "        output=output.view(output.size()[1],-1)\n",
    "        \n",
    "        return output,hidden"
   ]
  },
  {
   "cell_type": "code",
   "execution_count": 36,
   "metadata": {},
   "outputs": [],
   "source": []
  },
  {
   "cell_type": "code",
   "execution_count": null,
   "metadata": {},
   "outputs": [],
   "source": []
  }
 ],
 "metadata": {
  "kernelspec": {
   "display_name": "Python 3",
   "language": "python",
   "name": "python3"
  },
  "language_info": {
   "codemirror_mode": {
    "name": "ipython",
    "version": 3
   },
   "file_extension": ".py",
   "mimetype": "text/x-python",
   "name": "python",
   "nbconvert_exporter": "python",
   "pygments_lexer": "ipython3",
   "version": "3.7.1"
  }
 },
 "nbformat": 4,
 "nbformat_minor": 2
}
